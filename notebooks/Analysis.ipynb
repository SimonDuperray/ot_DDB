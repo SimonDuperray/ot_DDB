{
 "cells": [
  {
   "cell_type": "code",
   "execution_count": 23,
   "metadata": {},
   "outputs": [],
   "source": [
    "import pandas as pd\n",
    "import numpy as np\n",
    "import matplotlib.pyplot as plt"
   ]
  },
  {
   "cell_type": "code",
   "execution_count": 47,
   "metadata": {},
   "outputs": [
    {
     "data": {
      "text/html": [
       "<div>\n",
       "<style scoped>\n",
       "    .dataframe tbody tr th:only-of-type {\n",
       "        vertical-align: middle;\n",
       "    }\n",
       "\n",
       "    .dataframe tbody tr th {\n",
       "        vertical-align: top;\n",
       "    }\n",
       "\n",
       "    .dataframe thead th {\n",
       "        text-align: right;\n",
       "    }\n",
       "</style>\n",
       "<table border=\"1\" class=\"dataframe\">\n",
       "  <thead>\n",
       "    <tr style=\"text-align: right;\">\n",
       "      <th></th>\n",
       "      <th>CHANNEL</th>\n",
       "      <th>AUTHOR</th>\n",
       "      <th>CONTENT</th>\n",
       "      <th>DATE</th>\n",
       "      <th>TIME</th>\n",
       "      <th>CPT</th>\n",
       "    </tr>\n",
       "  </thead>\n",
       "  <tbody>\n",
       "    <tr>\n",
       "      <th>0</th>\n",
       "      <td>discussion-clients</td>\n",
       "      <td>Kartodix#2540</td>\n",
       "      <td>!start</td>\n",
       "      <td>15/06/2020</td>\n",
       "      <td>20:54:07</td>\n",
       "      <td>1.0</td>\n",
       "    </tr>\n",
       "    <tr>\n",
       "      <th>1</th>\n",
       "      <td>discussion-clients</td>\n",
       "      <td>FIRST-CLIENT#0136</td>\n",
       "      <td>a l'aide</td>\n",
       "      <td>15/06/2020</td>\n",
       "      <td>20:54:17</td>\n",
       "      <td>1.0</td>\n",
       "    </tr>\n",
       "    <tr>\n",
       "      <th>2</th>\n",
       "      <td>discussion-clients</td>\n",
       "      <td>SECOND-CLIENT#4072</td>\n",
       "      <td>Je veux commencer le Python</td>\n",
       "      <td>15/06/2020</td>\n",
       "      <td>20:54:28</td>\n",
       "      <td>1.0</td>\n",
       "    </tr>\n",
       "    <tr>\n",
       "      <th>3</th>\n",
       "      <td>discussion-clients</td>\n",
       "      <td>THIRD-BOT#7473</td>\n",
       "      <td>coucou</td>\n",
       "      <td>15/06/2020</td>\n",
       "      <td>20:54:38</td>\n",
       "      <td>1.0</td>\n",
       "    </tr>\n",
       "    <tr>\n",
       "      <th>4</th>\n",
       "      <td>discussion-clients</td>\n",
       "      <td>FIRST-CLIENT#0136</td>\n",
       "      <td>help</td>\n",
       "      <td>15/06/2020</td>\n",
       "      <td>20:54:49</td>\n",
       "      <td>2.0</td>\n",
       "    </tr>\n",
       "    <tr>\n",
       "      <th>...</th>\n",
       "      <td>...</td>\n",
       "      <td>...</td>\n",
       "      <td>...</td>\n",
       "      <td>...</td>\n",
       "      <td>...</td>\n",
       "      <td>...</td>\n",
       "    </tr>\n",
       "    <tr>\n",
       "      <th>321</th>\n",
       "      <td>discu2</td>\n",
       "      <td>FIRST-CLIENT#0136</td>\n",
       "      <td>merci</td>\n",
       "      <td>15/06/2020</td>\n",
       "      <td>22:05:50</td>\n",
       "      <td>104.0</td>\n",
       "    </tr>\n",
       "    <tr>\n",
       "      <th>322</th>\n",
       "      <td>discu2</td>\n",
       "      <td>SECOND-CLIENT#4072</td>\n",
       "      <td>Bonjoir</td>\n",
       "      <td>15/06/2020</td>\n",
       "      <td>22:06:00</td>\n",
       "      <td>104.0</td>\n",
       "    </tr>\n",
       "    <tr>\n",
       "      <th>323</th>\n",
       "      <td>discu2</td>\n",
       "      <td>THIRD-BOT#7473</td>\n",
       "      <td>vous pouvez m'aider ?</td>\n",
       "      <td>15/06/2020</td>\n",
       "      <td>22:06:11</td>\n",
       "      <td>104.0</td>\n",
       "    </tr>\n",
       "    <tr>\n",
       "      <th>324</th>\n",
       "      <td>spambot-kartodix</td>\n",
       "      <td>Kartodix#2540</td>\n",
       "      <td>hello</td>\n",
       "      <td>2020/6/16</td>\n",
       "      <td>11:18:27</td>\n",
       "      <td>NaN</td>\n",
       "    </tr>\n",
       "    <tr>\n",
       "      <th>325</th>\n",
       "      <td>spambot-kartodix</td>\n",
       "      <td>Kartodix#2540</td>\n",
       "      <td>salut</td>\n",
       "      <td>2020/6/16</td>\n",
       "      <td>11:19:4</td>\n",
       "      <td>NaN</td>\n",
       "    </tr>\n",
       "  </tbody>\n",
       "</table>\n",
       "<p>326 rows × 6 columns</p>\n",
       "</div>"
      ],
      "text/plain": [
       "                CHANNEL              AUTHOR                      CONTENT  \\\n",
       "0    discussion-clients       Kartodix#2540                       !start   \n",
       "1    discussion-clients   FIRST-CLIENT#0136                     a l'aide   \n",
       "2    discussion-clients  SECOND-CLIENT#4072  Je veux commencer le Python   \n",
       "3    discussion-clients      THIRD-BOT#7473                       coucou   \n",
       "4    discussion-clients   FIRST-CLIENT#0136                         help   \n",
       "..                  ...                 ...                          ...   \n",
       "321              discu2   FIRST-CLIENT#0136                        merci   \n",
       "322              discu2  SECOND-CLIENT#4072                      Bonjoir   \n",
       "323              discu2      THIRD-BOT#7473        vous pouvez m'aider ?   \n",
       "324    spambot-kartodix       Kartodix#2540                        hello   \n",
       "325    spambot-kartodix       Kartodix#2540                        salut   \n",
       "\n",
       "           DATE      TIME    CPT  \n",
       "0    15/06/2020  20:54:07    1.0  \n",
       "1    15/06/2020  20:54:17    1.0  \n",
       "2    15/06/2020  20:54:28    1.0  \n",
       "3    15/06/2020  20:54:38    1.0  \n",
       "4    15/06/2020  20:54:49    2.0  \n",
       "..          ...       ...    ...  \n",
       "321  15/06/2020  22:05:50  104.0  \n",
       "322  15/06/2020  22:06:00  104.0  \n",
       "323  15/06/2020  22:06:11  104.0  \n",
       "324   2020/6/16  11:18:27    NaN  \n",
       "325   2020/6/16   11:19:4    NaN  \n",
       "\n",
       "[326 rows x 6 columns]"
      ]
     },
     "execution_count": 47,
     "metadata": {},
     "output_type": "execute_result"
    }
   ],
   "source": [
    "df = pd.read_csv('dataset.csv', error_bad_lines=False, delimiter=\";\")\n",
    "df"
   ]
  },
  {
   "cell_type": "markdown",
   "metadata": {},
   "source": [
    "## Données générales"
   ]
  },
  {
   "cell_type": "code",
   "execution_count": 25,
   "metadata": {},
   "outputs": [
    {
     "name": "stdout",
     "output_type": "stream",
     "text": [
      "rows: 326; cols: 6\n"
     ]
    }
   ],
   "source": [
    "total_rows, total_cols = df.shape[0], df.shape[1]\n",
    "print(\"rows: {}; cols: {}\".format(total_rows, total_cols))"
   ]
  },
  {
   "cell_type": "markdown",
   "metadata": {},
   "source": [
    "## Valeurs uniques"
   ]
  },
  {
   "cell_type": "code",
   "execution_count": 41,
   "metadata": {},
   "outputs": [],
   "source": [
    "allChannels = df.CHANNEL.unique()\n",
    "allAuthor = df.AUTHOR.unique()\n",
    "#allContent = df.CONTENT.unique()\n",
    "allDate = df.DATE.unique()\n",
    "addTime = df.TIME.unique()"
   ]
  },
  {
   "cell_type": "markdown",
   "metadata": {},
   "source": [
    " ## Répartition des messages dans les channels"
   ]
  },
  {
   "cell_type": "code",
   "execution_count": 32,
   "metadata": {},
   "outputs": [
    {
     "data": {
      "text/plain": [
       "discussion-clients    300\n",
       "discu2                 17\n",
       "general                 7\n",
       "spambot-kartodix        2\n",
       "Name: CHANNEL, dtype: int64"
      ]
     },
     "execution_count": 32,
     "metadata": {},
     "output_type": "execute_result"
    }
   ],
   "source": [
    "total_channels = df['CHANNEL'].value_counts()\n",
    "total_channels"
   ]
  },
  {
   "cell_type": "code",
   "execution_count": 43,
   "metadata": {},
   "outputs": [],
   "source": [
    "repart_channels_list = []\n",
    "for i in range(len(total_channels)):\n",
    "    repart_channels_list.append(total_channels[i])"
   ]
  },
  {
   "cell_type": "markdown",
   "metadata": {},
   "source": [
    "## Répartition des messages selon les Pseudos"
   ]
  },
  {
   "cell_type": "code",
   "execution_count": 33,
   "metadata": {},
   "outputs": [
    {
     "data": {
      "text/plain": [
       "FIRST-CLIENT#0136     104\n",
       "SECOND-CLIENT#4072    104\n",
       "THIRD-BOT#7473        104\n",
       "Kartodix#2540           8\n",
       "Tehistir#9627           6\n",
       "Name: AUTHOR, dtype: int64"
      ]
     },
     "execution_count": 33,
     "metadata": {},
     "output_type": "execute_result"
    }
   ],
   "source": [
    "total_pseudos = df['AUTHOR'].value_counts()\n",
    "total_pseudos"
   ]
  },
  {
   "cell_type": "code",
   "execution_count": 37,
   "metadata": {},
   "outputs": [
    {
     "name": "stdout",
     "output_type": "stream",
     "text": [
      "104\n",
      "104\n",
      "104\n",
      "8\n",
      "6\n"
     ]
    }
   ],
   "source": [
    "for i in range(len(total_pseudos)):\n",
    "    print(total_pseudos[i])"
   ]
  },
  {
   "cell_type": "code",
   "execution_count": 46,
   "metadata": {},
   "outputs": [
    {
     "data": {
      "image/png": "[encoded data removed]",
      "text/plain": [
       "<Figure size 432x288 with 1 Axes>"
      ]
     },
     "metadata": {},
     "output_type": "display_data"
    },
    {
     "data": {
      "text/plain": [
       "<Figure size 576x576 with 0 Axes>"
      ]
     },
     "metadata": {},
     "output_type": "display_data"
    }
   ],
   "source": [
    "plt.pie(repart_channels_list, labels=allChannels)\n",
    "plt.figure(figsize = (8, 8))\n",
    "plt.show()"
   ]
  },
  {
   "cell_type": "markdown",
   "metadata": {},
   "source": [
    "## Répartition des messages selon la date"
   ]
  },
  {
   "cell_type": "code",
   "execution_count": 34,
   "metadata": {},
   "outputs": [
    {
     "data": {
      "text/plain": [
       "15/06/2020    324\n",
       "2020/6/16       2\n",
       "Name: DATE, dtype: int64"
      ]
     },
     "execution_count": 34,
     "metadata": {},
     "output_type": "execute_result"
    }
   ],
   "source": [
    "total_date = df['DATE'].value_counts()\n",
    "total_date"
   ]
  },
  {
   "cell_type": "markdown",
   "metadata": {},
   "source": [
    "## Répartition des messages selon l'heure\n",
    "### Enlever les secondes"
   ]
  },
  {
   "cell_type": "code",
   "execution_count": 35,
   "metadata": {},
   "outputs": [
    {
     "data": {
      "text/plain": [
       "21:06:11    1\n",
       "21:43:42    1\n",
       "21:03:22    1\n",
       "22:04:26    1\n",
       "21:17:09    1\n",
       "           ..\n",
       "21:44:13    1\n",
       "21:05:27    1\n",
       "21:31:11    1\n",
       "21:02:19    1\n",
       "21:45:06    1\n",
       "Name: TIME, Length: 326, dtype: int64"
      ]
     },
     "execution_count": 35,
     "metadata": {},
     "output_type": "execute_result"
    }
   ],
   "source": [
    "total_time = df['TIME'].value_counts()\n",
    "total_time"
   ]
  },
  {
   "cell_type": "code",
   "execution_count": 52,
   "metadata": {},
   "outputs": [
    {
     "data": {
      "text/plain": [
       "list"
      ]
     },
     "execution_count": 52,
     "metadata": {},
     "output_type": "execute_result"
    }
   ],
   "source": [
    "type(list(df['CHANNEL'].unique()))"
   ]
  },
  {
   "cell_type": "code",
   "execution_count": 53,
   "metadata": {},
   "outputs": [
    {
     "data": {
      "text/plain": [
       "['discussion-clients', 'general', 'discu2', 'spambot-kartodix']"
      ]
     },
     "execution_count": 53,
     "metadata": {},
     "output_type": "execute_result"
    }
   ],
   "source": [
    "list(df['CHANNEL'].unique())"
   ]
  },
  {
   "cell_type": "code",
   "execution_count": null,
   "metadata": {},
   "outputs": [],
   "source": []
  }
 ],
 "metadata": {
  "kernelspec": {
   "display_name": "Python 3",
   "language": "python",
   "name": "python3"
  },
  "language_info": {
   "codemirror_mode": {
    "name": "ipython",
    "version": 3
   },
   "file_extension": ".py",
   "mimetype": "text/x-python",
   "name": "python",
   "nbconvert_exporter": "python",
   "pygments_lexer": "ipython3",
   "version": "3.7.3"
  }
 },
 "nbformat": 4,
 "nbformat_minor": 4
}
